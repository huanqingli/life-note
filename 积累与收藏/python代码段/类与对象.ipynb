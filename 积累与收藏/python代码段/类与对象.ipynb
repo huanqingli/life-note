{
 "cells": [
  {
   "cell_type": "markdown",
   "metadata": {},
   "source": [
    "## 类与对象"
   ]
  },
  {
   "cell_type": "markdown",
   "metadata": {},
   "source": [
    "1. @装饰器 访问器，修改器，删除器。属性限制"
   ]
  },
  {
   "cell_type": "code",
   "execution_count": 22,
   "metadata": {},
   "outputs": [
    {
     "name": "stdout",
     "output_type": "stream",
     "text": [
      "Car: [品牌=QQ, 最高时速=120]\n",
      "Car: [品牌=Benz, 最高时速=320]\n",
      "<property object at 0x107f636d8>\n",
      "<function Car.brand at 0x107f7d378>\n",
      "<function Car.brand at 0x107f7d598>\n",
      "<function Car.brand at 0x107f7d620>\n"
     ]
    }
   ],
   "source": [
    "class Car(object):\n",
    "\n",
    "    # 属性限制\n",
    "\t__slots__ = ('_brand', '_max_speed')\n",
    "\n",
    "\tdef __init__(self, brand, max_speed):\n",
    "\t\tself._brand = brand\n",
    "\t\tself._max_speed = max_speed\n",
    "\n",
    "    # 访问器\n",
    "\t@property\n",
    "\tdef brand(self):\n",
    "\t\treturn self._brand\n",
    "\n",
    "    # 修改器\n",
    "\t@brand.setter\n",
    "\tdef brand(self, brand):\n",
    "\t\tself._brand = brand\n",
    "\n",
    "    # 删除器\n",
    "\t@brand.deleter\n",
    "\tdef brand(self):\n",
    "\t\tdel self._brand\n",
    "\n",
    "\t@property\n",
    "\tdef max_speed(self):\n",
    "\t\treturn self._max_speed\n",
    "\n",
    "\t@max_speed.setter\n",
    "\tdef max_speed(self, max_speed):\n",
    "\t\tif max_speed < 0:\n",
    "\t\t\traise ValueError('Invalid max speed for car')\n",
    "\t\tself._max_speed = max_speed\n",
    "\n",
    "\tdef __str__(self):\n",
    "\t\treturn 'Car: [品牌=%s, 最高时速=%d]' % (self._brand, self._max_speed)\n",
    "\n",
    "\n",
    "car = Car('QQ', 120)\n",
    "print(car)\n",
    "\n",
    "# ValueError\n",
    "# car.max_speed = -100\n",
    "\n",
    "car.max_speed = 320\n",
    "car.brand = \"Benz\"\n",
    "\n",
    "# 使用__slots__属性限制后下面的代码将产生异常\n",
    "# car.current_speed = 80\n",
    "\n",
    "print(car)\n",
    "\n",
    "# 如果提供了删除器可以执行下面的代码\n",
    "# del car.brand\n",
    "\n",
    "# 属性的实现\n",
    "print(Car.brand)\n",
    "print(Car.brand.fget)\n",
    "print(Car.brand.fset)\n",
    "print(Car.brand.fdel)"
   ]
  },
  {
   "cell_type": "markdown",
   "metadata": {},
   "source": [
    "2. 类之间的关系\n",
    "\n",
    "简单的说，类和类之间的关系有三种：is-a、has-a和use-a关系。\n",
    "\n",
    "- is-a关系也叫继承或泛化，比如学生和人的关系、手机和电子产品的关系都属于继承关系。\n",
    "- has-a关系通常称之为关联，比如部门和员工的关系，汽车和引擎的关系都属于关联关系；关联关系如果是整体和部分的关联，那么我们称之为聚合关系；如果整体进一步负责了部分的生命周期（整体和部分是不可分割的，同时同在也同时消亡），那么这种就是最强的关联关系，我们称之为合成关系。\n",
    "- use-a关系通常称之为依赖，比如司机有一个驾驶的行为（方法），其中（的参数）使用到了汽车，那么司机和汽车的关系就是依赖关系。"
   ]
  },
  {
   "cell_type": "code",
   "execution_count": null,
   "metadata": {},
   "outputs": [],
   "source": []
  },
  {
   "cell_type": "code",
   "execution_count": null,
   "metadata": {},
   "outputs": [],
   "source": []
  }
 ],
 "metadata": {
  "kernelspec": {
   "display_name": "Python 3",
   "language": "python",
   "name": "python3"
  },
  "language_info": {
   "codemirror_mode": {
    "name": "ipython",
    "version": 3
   },
   "file_extension": ".py",
   "mimetype": "text/x-python",
   "name": "python",
   "nbconvert_exporter": "python",
   "pygments_lexer": "ipython3",
   "version": "3.6.4"
  }
 },
 "nbformat": 4,
 "nbformat_minor": 2
}
