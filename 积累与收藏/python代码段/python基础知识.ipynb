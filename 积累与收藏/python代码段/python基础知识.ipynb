{
 "cells": [
  {
   "cell_type": "markdown",
   "metadata": {},
   "source": [
    "## 基础知识示例"
   ]
  },
  {
   "cell_type": "markdown",
   "metadata": {},
   "source": [
    "1. 注释， 打印"
   ]
  },
  {
   "cell_type": "code",
   "execution_count": 16,
   "metadata": {
    "scrolled": true
   },
   "outputs": [
    {
     "name": "stdout",
     "output_type": "stream",
     "text": [
      "hello, world!\n",
      "5 / 2 = 2.17\n"
     ]
    }
   ],
   "source": [
    "\"\"\"\n",
    "这是一个多行注释\n",
    "你看\n",
    "\"\"\"\n",
    "# 这是一个单行注释\n",
    "print('hello', 'world', sep=', ', end='!\\n')\n",
    "print('%d / %d = %.2f' % (5, 2.3, 5 / 2.3))\n",
    "# %d 是整数占位显示不了浮点数，%f是浮点数占位 %.2f 保留2位小数"
   ]
  },
  {
   "cell_type": "markdown",
   "metadata": {},
   "source": [
    "2. 分支结构（条件语句）"
   ]
  },
  {
   "cell_type": "code",
   "execution_count": 2,
   "metadata": {},
   "outputs": [
    {
     "name": "stdout",
     "output_type": "stream",
     "text": [
      "请输入长度: 100\n",
      "请输入单位: cm\n",
      "100.000000厘米 = 39.370079英寸\n"
     ]
    }
   ],
   "source": [
    "value = float(input('请输入长度: '))\n",
    "unit = input('请输入单位: ')\n",
    "if unit == 'in' or unit == '英寸':\n",
    "\tprint('%f英寸 = %f厘米' % (value, value * 2.54))\n",
    "elif unit == 'cm' or unit == '厘米':\n",
    "\tprint('%f厘米 = %f英寸' % (value, value / 2.54))\n",
    "else:\n",
    "\tprint('请输入有效的单位')"
   ]
  },
  {
   "cell_type": "markdown",
   "metadata": {},
   "source": [
    "3. 循环结构"
   ]
  },
  {
   "cell_type": "code",
   "execution_count": 82,
   "metadata": {},
   "outputs": [
    {
     "name": "stdout",
     "output_type": "stream",
     "text": [
      "2550\n",
      "2550\n",
      "1 1 2 3 5 8 13 21 34 55 2 is a prime number\n",
      "3 is a prime number\n",
      "4 equals 2 * 2\n",
      "5 is a prime number\n",
      "6 equals 2 * 3\n",
      "7 is a prime number\n",
      "8 equals 2 * 4\n",
      "9 equals 3 * 3\n"
     ]
    }
   ],
   "source": [
    "# 已知循环次数或对一个容器进行循环常用 for-in\n",
    "# 100 以下偶数求和\n",
    "sum = 0\n",
    "for x in range(2, 101, 2):\n",
    "\tsum += x\n",
    "print(sum)\n",
    "\"\"\"\n",
    "range(101)可以产生一个0到100的整数序列。\n",
    "range(1, 100)可以产生一个1到99的整数序列。\n",
    "range(1, 100, 2)可以产生一个1到99的奇数序列，其中的2是步长，即数值序列的增量。\n",
    "\"\"\"\n",
    "# while 实现，这种情况通常不用 while\n",
    "sum = 0\n",
    "num = 2\n",
    "while num <= 100:\n",
    "\tsum += num\n",
    "\tnum += 2\n",
    "print(sum)\n",
    "\n",
    "# 斐波那且数列\n",
    "def fibonacci(length):\n",
    "\tf = [1 , 1]\n",
    "\tfor i in range(2, length):\n",
    "\t\tf += [f[i - 1] + f[i - 2]]\n",
    "\t\t# f.append(f[i - 1] + f[i - 2])\n",
    "\tfor val in f:\n",
    "\t\tprint(val, end=' ')\n",
    "fibonacci(10)\n",
    "\n",
    "# 如果 break 就不走 else 了\n",
    "for n in range(2, 10):\n",
    "     for x in range(2, n):\n",
    "         if n % x == 0:\n",
    "             print(n, 'equals', x, '*', n//x)\n",
    "             break\n",
    "     else:\n",
    "         # loop fell through without finding a factor\n",
    "         print(n, 'is a prime number')"
   ]
  },
  {
   "cell_type": "markdown",
   "metadata": {},
   "source": [
    "4. 列表切片操作"
   ]
  },
  {
   "cell_type": "code",
   "execution_count": 60,
   "metadata": {},
   "outputs": [
    {
     "name": "stdout",
     "output_type": "stream",
     "text": [
      "Grape Apple Strawberry Waxberry Pitaya Pear Mango \n",
      "['apple', 'strawberry', 'waxberry']\n",
      "['grape', 'apple', 'strawberry', 'waxberry', 'pitaya', 'pear', 'mango']\n",
      "['pitaya', 'pear']\n",
      "['mango', 'pear', 'pitaya', 'waxberry', 'strawberry', 'apple', 'grape']\n"
     ]
    }
   ],
   "source": [
    "def list_test():\n",
    "\tfruits = ['grape', 'apple', 'strawberry', 'waxberry']\n",
    "\tfruits += ['pitaya', 'pear', 'mango']\n",
    "\t# 循环遍历列表元素\n",
    "\tfor fruit in fruits:\n",
    "\t\tprint(fruit.title(), end=' ')\n",
    "\tprint()\n",
    "\t# 列表切片\n",
    "\tfruits2 = fruits[1:4]\n",
    "\tprint(fruits2)\n",
    "\t# fruit3 = fruits  # 没有复制列表只创建了新的引用\n",
    "\tfruits3 = fruits[:]\n",
    "\tprint(fruits3)\n",
    "\tfruits4 = fruits[-3:-1]\n",
    "\tprint(fruits4)\n",
    "\tfruits5 = fruits[::-1]\n",
    "\tprint(fruits5)\n",
    "# 切片操作第一位是起始index默认0 第二位是终止index默认数组长度 第三位是间隔可省略 三位用:隔开\n",
    "list_test()"
   ]
  },
  {
   "cell_type": "markdown",
   "metadata": {},
   "source": [
    "5. 异常处理"
   ]
  },
  {
   "cell_type": "code",
   "execution_count": 70,
   "metadata": {},
   "outputs": [
    {
     "name": "stdout",
     "output_type": "stream",
     "text": [
      "Error: b should not be 0 !!\n",
      "Always run into finally block.\n",
      "Unexpected Error: unsupported operand type(s) for /: 'int' and 'str'\n",
      "Always run into finally block.\n",
      "0.5\n",
      "Run into else only when everything goes well\n",
      "Always run into finally block.\n"
     ]
    }
   ],
   "source": [
    "def div(a, b):\n",
    "    try:\n",
    "        print(a / b)\n",
    "    except ZeroDivisionError:\n",
    "    # 可以以元组的形式同时指定多个错误类型如：\n",
    "    # except (ZeroDivisionError, TypeError) as e:\n",
    "        print(\"Error: b should not be 0 !!\")\n",
    "    except Exception as e:\n",
    "    # Exception 可以代表所有错误类型也可以：\n",
    "    # except:\n",
    "    # 之后通过logging或者sys模块获取当前异常\n",
    "        print(\"Unexpected Error: {}\".format(e))\n",
    "    else:\n",
    "        # 一切正常才会进入\n",
    "        print('Run into else only when everything goes well')\n",
    "    finally:\n",
    "        print('Always run into finally block.')\n",
    "\n",
    "# tests\n",
    "div(2, 0)\n",
    "div(2, 'bad type')\n",
    "div(1, 2)\n"
   ]
  },
  {
   "cell_type": "markdown",
   "metadata": {},
   "source": [
    "6. 文件读取"
   ]
  },
  {
   "cell_type": "code",
   "execution_count": 80,
   "metadata": {},
   "outputs": [
    {
     "name": "stdout",
     "output_type": "stream",
     "text": [
      "我如果爱你\n",
      "绝不学攀援的凌霄花\n",
      "借你的高枝炫耀自己\n",
      "\n",
      "我如果爱你\n",
      "绝不学痴情的鸟儿\n",
      "为绿荫重复单调的歌曲\n",
      "我如果爱你\n",
      "绝不学攀援的凌霄花\n",
      "借你的高枝炫耀自己\n",
      "\n",
      "我如果爱你\n",
      "绝不学痴情的鸟儿\n",
      "为绿荫重复单调的歌曲\n",
      "['我如果爱你\\n', '绝不学攀援的凌霄花\\n', '借你的高枝炫耀自己\\n', '\\n', '我如果爱你\\n', '绝不学痴情的鸟儿\\n', '为绿荫重复单调的歌曲']\n"
     ]
    }
   ],
   "source": [
    "import time\n",
    "\n",
    "# 一次性读取整个文件内容\n",
    "with open('致橡树.txt', 'r', encoding='utf-8') as f:\n",
    "    print(f.read())\n",
    "\n",
    "# 通过for-in循环逐行读取\n",
    "with open('致橡树.txt', mode='r') as f:\n",
    "    for line in f:\n",
    "        print(line, end='')\n",
    "        time.sleep(0.5)\n",
    "print()\n",
    "\n",
    "# 读取文件按行读取到列表中\n",
    "with open('致橡树.txt') as f:\n",
    "    lines = f.readlines()\n",
    "print(lines)"
   ]
  },
  {
   "cell_type": "markdown",
   "metadata": {},
   "source": [
    "7. 文件写入"
   ]
  },
  {
   "cell_type": "code",
   "execution_count": 77,
   "metadata": {},
   "outputs": [
    {
     "name": "stdout",
     "output_type": "stream",
     "text": [
      "保存数据完成!\n"
     ]
    }
   ],
   "source": [
    "import csv\n",
    "\n",
    "\n",
    "class Teacher(object):\n",
    "\n",
    "\tdef __init__(self, name, age, title):\n",
    "\t\tself.__name = name\n",
    "\t\tself.__age = age\n",
    "\t\tself.__title = title\n",
    "\t\tself.__index = -1\n",
    "\n",
    "\t@property\n",
    "\tdef name(self):\n",
    "\t\treturn self.__name\n",
    "\n",
    "\t@property\n",
    "\tdef age(self):\n",
    "\t\treturn self.__age\n",
    "\n",
    "\t@property\n",
    "\tdef title(self):\n",
    "\t\treturn self.__title\n",
    "\n",
    "\n",
    "filename = 'teacher.csv'\n",
    "teachers = [Teacher('骆昊', 38, '叫兽'), Teacher('狄仁杰', 25, '砖家')]\n",
    "\n",
    "try:\n",
    "\twith open(filename, 'w') as f:\n",
    "\t\twriter = csv.writer(f)\n",
    "\t\tfor teacher in teachers:\n",
    "\t\t\twriter.writerow([teacher.name, teacher.age, teacher.title])\n",
    "except BaseException as e:\n",
    "\tprint('无法写入文件:', filename)\n",
    "else:\n",
    "\tprint('保存数据完成!')"
   ]
  },
  {
   "cell_type": "markdown",
   "metadata": {},
   "source": [
    "8. 函数默认参数"
   ]
  },
  {
   "cell_type": "code",
   "execution_count": 83,
   "metadata": {},
   "outputs": [
    {
     "name": "stdout",
     "output_type": "stream",
     "text": [
      "[1]\n",
      "[1, 2]\n",
      "[1, 2, 3]\n"
     ]
    }
   ],
   "source": [
    "# 函数默认值只声明一次，所以会出现如下结果\n",
    "def f(a, L=[]):\n",
    "    L.append(a)\n",
    "    return L\n",
    "\n",
    "print(f(1))\n",
    "print(f(2))\n",
    "print(f(3))"
   ]
  },
  {
   "cell_type": "markdown",
   "metadata": {},
   "source": [
    "9. 列表和字典的形参"
   ]
  },
  {
   "cell_type": "code",
   "execution_count": 85,
   "metadata": {},
   "outputs": [
    {
     "name": "stdout",
     "output_type": "stream",
     "text": [
      "-- Do you have any Limburger ?\n",
      "-- I'm sorry, we're all out of Limburger\n",
      "It's very runny, sir.\n",
      "It's really very, VERY runny, sir.\n",
      "----------------------------------------\n",
      "shopkeeper : Michael Palin\n",
      "client : John Cleese\n",
      "sketch : Cheese Shop Sketch\n"
     ]
    }
   ],
   "source": [
    "def cheeseshop(kind, *arguments, **keywords):\n",
    "    print(\"-- Do you have any\", kind, \"?\")\n",
    "    print(\"-- I'm sorry, we're all out of\", kind)\n",
    "    for arg in arguments:\n",
    "        print(arg)\n",
    "    print(\"-\" * 40)\n",
    "    for kw in keywords:\n",
    "        print(kw, \":\", keywords[kw])\n",
    "\n",
    "cheeseshop(\"Limburger\", \"It's very runny, sir.\",\n",
    "           \"It's really very, VERY runny, sir.\",\n",
    "           shopkeeper=\"Michael Palin\",\n",
    "           client=\"John Cleese\",\n",
    "           sketch=\"Cheese Shop Sketch\")"
   ]
  },
  {
   "cell_type": "code",
   "execution_count": 89,
   "metadata": {},
   "outputs": [
    {
     "name": "stdout",
     "output_type": "stream",
     "text": [
      "0\n"
     ]
    }
   ],
   "source": [
    "import random\n",
    " \n",
    "print(random.randint(0,6))"
   ]
  },
  {
   "cell_type": "code",
   "execution_count": null,
   "metadata": {},
   "outputs": [],
   "source": []
  }
 ],
 "metadata": {
  "kernelspec": {
   "display_name": "Python 3",
   "language": "python",
   "name": "python3"
  },
  "language_info": {
   "codemirror_mode": {
    "name": "ipython",
    "version": 3
   },
   "file_extension": ".py",
   "mimetype": "text/x-python",
   "name": "python",
   "nbconvert_exporter": "python",
   "pygments_lexer": "ipython3",
   "version": "3.6.4"
  }
 },
 "nbformat": 4,
 "nbformat_minor": 2
}
